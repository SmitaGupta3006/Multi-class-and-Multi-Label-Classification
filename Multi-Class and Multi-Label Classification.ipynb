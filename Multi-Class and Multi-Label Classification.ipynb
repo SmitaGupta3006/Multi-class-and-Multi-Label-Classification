{
 "cells": [
  {
   "cell_type": "markdown",
   "metadata": {},
   "source": [
    "Name: Smita Gupta<br>\n",
    "USC ID: 4123927261"
   ]
  },
  {
   "cell_type": "code",
   "execution_count": 70,
   "metadata": {},
   "outputs": [],
   "source": [
    "import pandas as pd\n",
    "import numpy as np\n",
    "from sklearn.metrics import accuracy_score, hamming_loss\n",
    "from sklearn.model_selection import GridSearchCV\n",
    "from sklearn.pipeline import Pipeline\n",
    "from sklearn.preprocessing import StandardScaler\n",
    "from sklearn.svm import SVC\n",
    "from sklearn.svm import LinearSVC\n",
    "import warnings\n",
    "from imblearn.over_sampling import SMOTE\n",
    "import pandas as pd\n",
    "import matplotlib.pyplot as plt\n",
    "from sklearn.model_selection import train_test_split\n",
    "from sklearn.preprocessing import LabelEncoder\n",
    "from sklearn.metrics import silhouette_score\n",
    "from sklearn.cluster import KMeans\n",
    "from scipy.spatial.distance import cdist\n",
    "from collections import Counter\n",
    "from scipy.cluster import hierarchy"
   ]
  },
  {
   "cell_type": "code",
   "execution_count": 55,
   "metadata": {},
   "outputs": [],
   "source": [
    "# Setting the paths\n",
    "MFCC_file = \"Anuran Calls (MFCCs)/Frogs_MFCCs.csv\""
   ]
  },
  {
   "cell_type": "code",
   "execution_count": 56,
   "metadata": {},
   "outputs": [
    {
     "name": "stdout",
     "output_type": "stream",
     "text": [
      "   MFCCs_ 1  MFCCs_ 2  MFCCs_ 3  MFCCs_ 4  MFCCs_ 5  MFCCs_ 6  MFCCs_ 7  \\\n",
      "0       1.0  0.152936 -0.105586  0.200722  0.317201  0.260764  0.100945   \n",
      "1       1.0  0.171534 -0.098975  0.268425  0.338672  0.268353  0.060835   \n",
      "2       1.0  0.152317 -0.082973  0.287128  0.276014  0.189867  0.008714   \n",
      "3       1.0  0.224392  0.118985  0.329432  0.372088  0.361005  0.015501   \n",
      "4       1.0  0.087817 -0.068345  0.306967  0.330923  0.249144  0.006884   \n",
      "\n",
      "   MFCCs_ 8  MFCCs_ 9  MFCCs_10  ...  MFCCs_17  MFCCs_18  MFCCs_19  MFCCs_20  \\\n",
      "0 -0.150063 -0.171128  0.124676  ... -0.108351 -0.077623 -0.009568  0.057684   \n",
      "1 -0.222475 -0.207693  0.170883  ... -0.090974 -0.056510 -0.035303  0.020140   \n",
      "2 -0.242234 -0.219153  0.232538  ... -0.050691 -0.023590 -0.066722 -0.025083   \n",
      "3 -0.194347 -0.098181  0.270375  ... -0.136009 -0.177037 -0.130498 -0.054766   \n",
      "4 -0.265423 -0.172700  0.266434  ... -0.048885 -0.053074 -0.088550 -0.031346   \n",
      "\n",
      "   MFCCs_21  MFCCs_22           Family      Genus         Species  RecordID  \n",
      "0  0.118680  0.014038  Leptodactylidae  Adenomera  AdenomeraAndre         1  \n",
      "1  0.082263  0.029056  Leptodactylidae  Adenomera  AdenomeraAndre         1  \n",
      "2  0.099108  0.077162  Leptodactylidae  Adenomera  AdenomeraAndre         1  \n",
      "3 -0.018691  0.023954  Leptodactylidae  Adenomera  AdenomeraAndre         1  \n",
      "4  0.108610  0.079244  Leptodactylidae  Adenomera  AdenomeraAndre         1  \n",
      "\n",
      "[5 rows x 26 columns]\n",
      "   MFCCs_ 1  MFCCs_ 2  MFCCs_ 3  MFCCs_ 4  MFCCs_ 5  MFCCs_ 6  MFCCs_ 7  \\\n",
      "0       1.0  0.152936 -0.105586  0.200722  0.317201  0.260764  0.100945   \n",
      "1       1.0  0.171534 -0.098975  0.268425  0.338672  0.268353  0.060835   \n",
      "2       1.0  0.152317 -0.082973  0.287128  0.276014  0.189867  0.008714   \n",
      "3       1.0  0.224392  0.118985  0.329432  0.372088  0.361005  0.015501   \n",
      "4       1.0  0.087817 -0.068345  0.306967  0.330923  0.249144  0.006884   \n",
      "\n",
      "   MFCCs_ 8  MFCCs_ 9  MFCCs_10  ...  MFCCs_13  MFCCs_14  MFCCs_15  MFCCs_16  \\\n",
      "0 -0.150063 -0.171128  0.124676  ... -0.156436  0.082245  0.135752 -0.024017   \n",
      "1 -0.222475 -0.207693  0.170883  ... -0.254341  0.022786  0.163320  0.012022   \n",
      "2 -0.242234 -0.219153  0.232538  ... -0.237384  0.050791  0.207338  0.083536   \n",
      "3 -0.194347 -0.098181  0.270375  ... -0.317084 -0.011567  0.100413 -0.050224   \n",
      "4 -0.265423 -0.172700  0.266434  ... -0.298524  0.037439  0.219153  0.062837   \n",
      "\n",
      "   MFCCs_17  MFCCs_18  MFCCs_19  MFCCs_20  MFCCs_21  MFCCs_22  \n",
      "0 -0.108351 -0.077623 -0.009568  0.057684  0.118680  0.014038  \n",
      "1 -0.090974 -0.056510 -0.035303  0.020140  0.082263  0.029056  \n",
      "2 -0.050691 -0.023590 -0.066722 -0.025083  0.099108  0.077162  \n",
      "3 -0.136009 -0.177037 -0.130498 -0.054766 -0.018691  0.023954  \n",
      "4 -0.048885 -0.053074 -0.088550 -0.031346  0.108610  0.079244  \n",
      "\n",
      "[5 rows x 22 columns]\n",
      "            Family      Genus         Species\n",
      "0  Leptodactylidae  Adenomera  AdenomeraAndre\n",
      "1  Leptodactylidae  Adenomera  AdenomeraAndre\n",
      "2  Leptodactylidae  Adenomera  AdenomeraAndre\n",
      "3  Leptodactylidae  Adenomera  AdenomeraAndre\n",
      "4  Leptodactylidae  Adenomera  AdenomeraAndre\n"
     ]
    }
   ],
   "source": [
    "#Reading the data\n",
    "data = pd.read_csv(MFCC_file)\n",
    "\n",
    "X_data = data.iloc[:, :-4]\n",
    "Y_data = data.iloc[:, - 4: -1]\n",
    "print(data.head())\n",
    "print(X_data.head())\n",
    "print(Y_data.head())"
   ]
  },
  {
   "cell_type": "code",
   "execution_count": 81,
   "metadata": {},
   "outputs": [],
   "source": [
    "#splitting the data\n",
    "X_train, X_test, Y_train, Y_test = train_test_split(X_data, Y_data, test_size=0.3)"
   ]
  },
  {
   "cell_type": "code",
   "execution_count": 83,
   "metadata": {},
   "outputs": [
    {
     "name": "stdout",
     "output_type": "stream",
     "text": [
      "X_train's shape:  (5036, 22)\n",
      "<bound method NDFrame.head of       MFCCs_ 1  MFCCs_ 2  MFCCs_ 3  MFCCs_ 4  MFCCs_ 5  MFCCs_ 6  MFCCs_ 7  \\\n",
      "2823       1.0  0.417443  0.147221  0.629560  0.235630 -0.001428 -0.175122   \n",
      "752        1.0  0.118955  0.107814  0.403710  0.388972  0.242668 -0.173096   \n",
      "592        1.0  0.525617  0.630857  0.441829 -0.198300 -0.002468  0.429355   \n",
      "5759       1.0  0.829536  0.920195  0.416930 -0.186461  0.263635 -0.120680   \n",
      "6784       1.0  0.294218  0.804890  0.375896 -0.324858  0.345737  0.366765   \n",
      "...        ...       ...       ...       ...       ...       ...       ...   \n",
      "533        1.0  0.533289  0.685676  0.583710 -0.127425 -0.017001  0.425560   \n",
      "1874       1.0  0.528867  0.177182  0.480349  0.235936  0.058119 -0.113591   \n",
      "4902       1.0  0.434393  0.228097  0.318796  0.229437  0.190920  0.021659   \n",
      "3730       1.0  0.492419  0.369154  0.613653  0.157799  0.048599 -0.027054   \n",
      "3332       1.0  0.107533  0.094128  0.480059  0.192544  0.082910 -0.105857   \n",
      "\n",
      "      MFCCs_ 8  MFCCs_ 9  MFCCs_10  ...  MFCCs_13  MFCCs_14  MFCCs_15  \\\n",
      "2823  0.106281  0.221465  0.036701  ...  0.375497  0.090834 -0.211264   \n",
      "752  -0.218314  0.169487  0.285674  ... -0.099428  0.098895  0.227243   \n",
      "592   0.066235 -0.256770  0.205860  ... -0.060644  0.233765 -0.006979   \n",
      "5759 -0.341142  0.047732  0.079978  ...  0.051200 -0.181916 -0.047581   \n",
      "6784 -0.274473  0.004614  0.264637  ...  0.285265  0.080151 -0.137815   \n",
      "...        ...       ...       ...  ...       ...       ...       ...   \n",
      "533   0.040863 -0.287377  0.164286  ... -0.065388  0.214584  0.064597   \n",
      "1874  0.109672  0.269437  0.018172  ...  0.304922  0.031393 -0.283915   \n",
      "4902 -0.127245  0.024609  0.162033  ...  0.256126  0.222856 -0.146892   \n",
      "3730  0.089113  0.328505  0.062034  ...  0.326043 -0.122723 -0.275031   \n",
      "3332 -0.038107  0.199315  0.113708  ...  0.310782 -0.042884 -0.279159   \n",
      "\n",
      "      MFCCs_16  MFCCs_17  MFCCs_18  MFCCs_19  MFCCs_20  MFCCs_21  MFCCs_22  \n",
      "2823 -0.092765  0.104622  0.090617 -0.123438 -0.280721 -0.122608  0.167633  \n",
      "752   0.007991 -0.231928 -0.039296  0.161781  0.088994 -0.004393 -0.113182  \n",
      "592  -0.152421  0.102577  0.087850 -0.077648 -0.037956  0.112328  0.020384  \n",
      "5759  0.297792  0.077544 -0.018563  0.074106 -0.017875  0.015043  0.174260  \n",
      "6784 -0.020197  0.085945  0.031628 -0.028692  0.072370  0.072371 -0.074430  \n",
      "...        ...       ...       ...       ...       ...       ...       ...  \n",
      "533  -0.153780  0.076597  0.177948 -0.049980 -0.031321  0.089217  0.043252  \n",
      "1874 -0.133012  0.144055  0.104321 -0.034758 -0.149859  0.041324  0.173693  \n",
      "4902 -0.229913 -0.029470  0.175306  0.209475  0.111918 -0.165177 -0.154338  \n",
      "3730  0.090794  0.214211 -0.027847 -0.074888 -0.060669  0.009760  0.167992  \n",
      "3332  0.013178  0.259709  0.120733 -0.100468 -0.240843 -0.086371  0.201524  \n",
      "\n",
      "[5036 rows x 22 columns]>\n"
     ]
    }
   ],
   "source": [
    "print(\"X_train's shape: \", X_train.shape)\n",
    "print(X_train.head)"
   ]
  },
  {
   "cell_type": "code",
   "execution_count": 78,
   "metadata": {},
   "outputs": [
    {
     "name": "stdout",
     "output_type": "stream",
     "text": [
      "X_test's shape:  (2159, 22)\n",
      "      MFCCs_ 1  MFCCs_ 2  MFCCs_ 3  MFCCs_ 4  MFCCs_ 5  MFCCs_ 6  MFCCs_ 7  \\\n",
      "6137       1.0  0.485147  0.694289  0.545756 -0.072073  0.245410  0.214900   \n",
      "6404       1.0  0.298293  0.366547  0.415979  0.213362  0.094509 -0.042928   \n",
      "2607       1.0  0.378678  0.430880  0.618243  0.075128 -0.008888 -0.106768   \n",
      "2367       1.0  0.124058  0.114009  0.557505  0.232406 -0.067412 -0.130254   \n",
      "5655       1.0  0.235832  0.353584  0.262535  0.126709  0.186260  0.072340   \n",
      "...        ...       ...       ...       ...       ...       ...       ...   \n",
      "6088       1.0  0.158277  0.302846  0.306282  0.134988  0.176718  0.113826   \n",
      "3308       1.0  0.159563  0.099331  0.583389  0.238885  0.113887 -0.086597   \n",
      "3607       1.0  0.512904  0.204443  0.461766  0.194312  0.094238 -0.054278   \n",
      "5918       1.0  0.689685  0.827040  0.158804  0.089644  0.650763 -0.133446   \n",
      "5190       1.0  0.633799  0.801819  0.481526  0.045886  0.180853  0.017400   \n",
      "\n",
      "      MFCCs_ 8  MFCCs_ 9  MFCCs_10  ...  MFCCs_13  MFCCs_14  MFCCs_15  \\\n",
      "6137 -0.186311  0.082147  0.283379  ...  0.260517  0.143588 -0.137150   \n",
      "6404 -0.027377  0.190439  0.219418  ...  0.177454 -0.035033 -0.030371   \n",
      "2607  0.067784  0.266808 -0.084165  ...  0.366652 -0.177005 -0.321548   \n",
      "2367  0.095365  0.251530 -0.018291  ...  0.228790 -0.121040 -0.167944   \n",
      "5655 -0.100870 -0.004227  0.069698  ...  0.038132 -0.056603 -0.069633   \n",
      "...        ...       ...       ...  ...       ...       ...       ...   \n",
      "6088 -0.147141 -0.061595  0.092094  ...  0.090091 -0.055296 -0.132492   \n",
      "3308 -0.017567  0.251699  0.138391  ...  0.356962 -0.020601 -0.291135   \n",
      "3607  0.057738  0.268012  0.106944  ...  0.307595 -0.072453 -0.243473   \n",
      "5918 -0.309355  0.183944  0.084511  ...  0.077069 -0.114672  0.108122   \n",
      "5190  0.127978  0.135162 -0.374324  ... -0.181696 -0.180199  0.366159   \n",
      "\n",
      "      MFCCs_16  MFCCs_17  MFCCs_18  MFCCs_19  MFCCs_20  MFCCs_21  MFCCs_22  \n",
      "6137 -0.034786  0.181985  0.099406  0.044830  0.008898 -0.030983  0.035508  \n",
      "6404  0.095115 -0.066334  0.001943  0.140514 -0.038148 -0.082974  0.126713  \n",
      "2607  0.112632  0.199011 -0.030374 -0.083440 -0.081388  0.101548  0.165429  \n",
      "2367  0.070943  0.062188 -0.060865 -0.065491  0.003033  0.092174  0.056448  \n",
      "5655  0.070767  0.068307 -0.017618 -0.008540 -0.005693 -0.022963  0.032874  \n",
      "...        ...       ...       ...       ...       ...       ...       ...  \n",
      "6088  0.005954  0.085908  0.014167 -0.019889 -0.037439 -0.056660  0.005881  \n",
      "3308 -0.017521  0.210175  0.070512 -0.094993 -0.222183 -0.079619  0.201147  \n",
      "3607  0.037611  0.224677  0.136215  0.002961 -0.176308 -0.080263  0.199828  \n",
      "5918  0.077585 -0.051703  0.003922 -0.018322 -0.025218  0.120897  0.065866  \n",
      "5190  0.129772 -0.190552  0.020830  0.029762  0.077183 -0.061731 -0.227801  \n",
      "\n",
      "[2159 rows x 22 columns]\n"
     ]
    }
   ],
   "source": [
    "print(\"X_test's shape: \", X_test.shape)\n",
    "print(X_test)"
   ]
  },
  {
   "cell_type": "code",
   "execution_count": 79,
   "metadata": {},
   "outputs": [
    {
     "name": "stdout",
     "output_type": "stream",
     "text": [
      "Y_train's shape:  (5036, 3)\n",
      "               Family          Genus                 Species\n",
      "4355  Leptodactylidae      Adenomera  AdenomeraHylaedactylus\n",
      "6267          Hylidae      Hypsiboas       HypsiboasCordobae\n",
      "651   Leptodactylidae      Adenomera          AdenomeraAndre\n",
      "1733  Leptodactylidae      Adenomera  AdenomeraHylaedactylus\n",
      "1985  Leptodactylidae      Adenomera  AdenomeraHylaedactylus\n",
      "...               ...            ...                     ...\n",
      "6607  Leptodactylidae  Leptodactylus     LeptodactylusFuscus\n",
      "3195  Leptodactylidae      Adenomera  AdenomeraHylaedactylus\n",
      "3622  Leptodactylidae      Adenomera  AdenomeraHylaedactylus\n",
      "1510  Leptodactylidae      Adenomera  AdenomeraHylaedactylus\n",
      "6944          Hylidae  Osteocephalus   OsteocephalusOophagus\n",
      "\n",
      "[5036 rows x 3 columns]\n"
     ]
    }
   ],
   "source": [
    "print(\"Y_train's shape: \", Y_train.shape)\n",
    "print(Y_train)"
   ]
  },
  {
   "cell_type": "code",
   "execution_count": 82,
   "metadata": {},
   "outputs": [
    {
     "name": "stdout",
     "output_type": "stream",
     "text": [
      "Y_test's shape:  (2159, 3)\n",
      "               Family      Genus                 Species\n",
      "1796  Leptodactylidae  Adenomera  AdenomeraHylaedactylus\n",
      "4207  Leptodactylidae  Adenomera  AdenomeraHylaedactylus\n",
      "6400          Hylidae  Hypsiboas       HypsiboasCordobae\n",
      "244   Leptodactylidae  Adenomera          AdenomeraAndre\n",
      "5381          Hylidae  Hypsiboas    HypsiboasCinerascens\n",
      "...               ...        ...                     ...\n",
      "1327  Leptodactylidae  Adenomera  AdenomeraHylaedactylus\n",
      "2371  Leptodactylidae  Adenomera  AdenomeraHylaedactylus\n",
      "1840  Leptodactylidae  Adenomera  AdenomeraHylaedactylus\n",
      "507   Leptodactylidae  Adenomera          AdenomeraAndre\n",
      "1964  Leptodactylidae  Adenomera  AdenomeraHylaedactylus\n",
      "\n",
      "[2159 rows x 3 columns]\n"
     ]
    }
   ],
   "source": [
    "print(\"Y_test's shape: \", Y_test.shape)\n",
    "print(Y_test)"
   ]
  },
  {
   "cell_type": "markdown",
   "metadata": {},
   "source": [
    "(b) Each instance has three labels: Families, Genus, and Species. Each of the labels has multiple classes. We wish to solve a multi-class and multi-label problem. One of the most important approaches to multi-class classification is to train a classifier for each label. We first try this approach:<br>\n",
    "i) Research exact match and hamming score/ loss methods for evaluating multi- label classification and use them in evaluating the classifiers in this problem.<br>\n",
    "There is an API called metrics in sklearn package (https://scikit-learn.org/stable/modules/classes.html#module-sklearn.metrics). And according to its introduction words, I can use metrics.accuracy_score(y_true, y_pred) to evaluate multilabel classification issues in an exact match way. And also it has metrics.hamming_loss(y_true, y_pred) which could be used to compute the average Hamming loss.<br> <br>\n",
    "ii) Train a SVM for each of the labels, using Gaussian kernels and one versus all classifiers. Determine the weight of the SVM penalty and the width of\n",
    " 1\n",
    "to solve the problem with both standardized 2 and raw attributes and report\n",
    "the Gaussian Kernel using 10 fold cross validation. the results."
   ]
  },
  {
   "cell_type": "code",
   "execution_count": 84,
   "metadata": {},
   "outputs": [],
   "source": [
    "LABELS_NAME = [\"Family\", \"Genus\", \"Species\"]\n",
    "Y_LABEL = [['Leptodactylidae', 'Bufonidae', 'Dendrobatidae', 'Hylidae'],['Adenomera', 'Ameerega', 'Dendropsophus', \n",
    "            'Hypsiboas', 'Leptodactylus', 'Osteocephalus', 'Rhinella','Scinax'], ['AdenomeraAndre', 'AdenomeraHylaedactylus', \n",
    "            'Ameeregatrivittata', 'HylaMinuta', 'HypsiboasCinerascens','HypsiboasCordobae', 'LeptodactylusFuscus', \n",
    "            'OsteocephalusOophagus', 'Rhinellagranulosa','ScinaxRuber']]"
   ]
  },
  {
   "cell_type": "code",
   "execution_count": 59,
   "metadata": {
    "scrolled": false
   },
   "outputs": [
    {
     "name": "stdout",
     "output_type": "stream",
     "text": [
      "-------------------------Family---------------------------\n",
      "Using RawData, The best params are:  {'C': 77.4263682681127, 'gamma': 2.154434690031878}\n",
      "Using Standardized Data, The best params are:  {'svc__C': 12.91549665014884, 'svc__gamma': 0.1}\n",
      "Using RawData, The accuracy score is:  0.9925891616489115\n",
      "Using Standardized Data, The accuracy sco re is:  0.3094025011579435\n",
      "Using RawData, The hamming loss is:  0.007410838351088467\n",
      "Using Standardized Data, The hamming loss is:  0.6905974988420565\n",
      "-------------------------Genus---------------------------\n",
      "Using RawData, The best params are:  {'C': 12.91549665014884, 'gamma': 2.154434690031878}\n",
      "Using Standardized Data, The best params are:  {'svc__C': 12.91549665014884, 'svc__gamma': 0.1}\n",
      "Using RawData, The accuracy score is:  0.9935155164427976\n",
      "Using Standardized Data, The accuracy sco re is:  0.2283464566929134\n",
      "Using RawData, The hamming loss is:  0.006484483557202408\n",
      "Using Standardized Data, The hamming loss is:  0.7716535433070866\n",
      "-------------------------Species---------------------------\n",
      "Using RawData, The best params are:  {'C': 2.1544346900318843, 'gamma': 2.154434690031878}\n",
      "Using Standardized Data, The best params are:  {'svc__C': 77.4263682681127, 'svc__gamma': 0.004641588833612773}\n",
      "Using RawData, The accuracy score is:  0.9911996294580825\n",
      "Using Standardized Data, The accuracy sco re is:  0.15145900880037055\n",
      "Using RawData, The hamming loss is:  0.008800370541917554\n",
      "Using Standardized Data, The hamming loss is:  0.8485409911996294\n"
     ]
    }
   ],
   "source": [
    "SVCParameters = {\"gamma\": np.logspace(-9, 3, 10), \"C\": np.logspace(-2, 5, 10)}\n",
    "stdSVCParameters = {\"svc__gamma\": np.logspace(-9, 3, 10), \"svc__C\": np.logspace(-2, 5, 10)}\n",
    "\n",
    "for label_index in range(Y_train.shape[1]):\n",
    "    y_train = Y_train.iloc[:, label_index]\n",
    "    y_test = Y_test.iloc[:, label_index]\n",
    "    \n",
    "    svc = SVC(kernel=\"rbf\", decision_function_shape='ovr')\n",
    "    stdSVC = Pipeline([\n",
    "        (\"standardize\", StandardScaler()), \n",
    "        (\"svc\", SVC(kernel=\"rbf\", decision_function_shape='ovr'))])\n",
    "    gridCV = GridSearchCV(svc, SVCParameters, cv=10, n_jobs=-1)\n",
    "    stdGridCV = GridSearchCV(stdSVC, stdSVCParameters, cv=10, n_jobs=-1)\n",
    "\n",
    "    gridCV.fit(X_train, y_train)\n",
    "    stdGridCV.fit(X_train, y_train)\n",
    "\n",
    "    bestClf = gridCV.best_estimator_\n",
    "    bestStdClf = stdGridCV.best_estimator_\n",
    "\n",
    "    y_predict = bestClf.predict(X_test)\n",
    "    y_std_predict = bestStdClf.predict(StandardScaler().fit(X_test).transform(X_test))\n",
    "\n",
    "    print(\"-------------------------\" + LABELS_NAME[label_index] + \"---------------------------\")\n",
    "    print(\"Using RawData, The best params are: \", gridCV.best_params_)\n",
    "    print(\"Using Standardized Data, The best params are: \", \n",
    "          stdGridCV.best_params_)\n",
    "\n",
    "    print(\"Using RawData, The accuracy score is: \", accuracy_score(y_test, y_predict))\n",
    "    print(\"Using Standardized Data, The accuracy sco re is: \", \n",
    "          accuracy_score(y_test, y_std_predict))\n",
    "\n",
    "    print(\"Using RawData, The hamming loss is: \", hamming_loss(y_test, y_predict))\n",
    "    print(\"Using Standardized Data, The hamming loss is: \", \n",
    "          hamming_loss(y_test, y_std_predict))"
   ]
  },
  {
   "cell_type": "markdown",
   "metadata": {},
   "source": [
    "b) iii. Repeat 1(b)ii with L1-penalized SVMs. Remember to standardize the at-\n",
    "tributes. Determine the weight of the SVM penalty using 10 fold cross vali- dation."
   ]
  },
  {
   "cell_type": "code",
   "execution_count": 61,
   "metadata": {},
   "outputs": [
    {
     "name": "stdout",
     "output_type": "stream",
     "text": [
      "-------------------------Family---------------------------\n",
      "Using L1 penalized SVM, The best params are:  {'svc__C': 2.1544346900318843, 'svc__tol': 1e-05}\n",
      "Using L1 penalized SVM, The accuracy score is:  0.7466419638721631\n",
      "Using L1 penalized SVM, The hamming loss is:  0.25335803612783697\n",
      "-------------------------Genus---------------------------\n",
      "Using L1 penalized SVM, The best params are:  {'svc__C': 464.1588833612782, 'svc__tol': 0.001}\n",
      "Using L1 penalized SVM, The accuracy score is:  0.6739231125521075\n",
      "Using L1 penalized SVM, The hamming loss is:  0.32607688744789254\n",
      "-------------------------Species---------------------------\n",
      "Using L1 penalized SVM, The best params are:  {'svc__C': 2.1544346900318843, 'svc__tol': 1e-08}\n",
      "Using L1 penalized SVM, The accuracy score is:  0.7989810097267254\n",
      "Using L1 penalized SVM, The hamming loss is:  0.20101899027327466\n"
     ]
    }
   ],
   "source": [
    "warnings.filterwarnings(\"ignore\")\n",
    "parameters = {\"svc__tol\": [1e-3, 1e-4, 1e-5, 1e-6, 1e-7, 1e-8], \"svc__C\": np.logspace(-2, 5, 10)}\n",
    "\n",
    "for label_index in range(Y_train.shape[1]):\n",
    "    y_train = Y_train.iloc[:, label_index]\n",
    "    y_test = Y_test.iloc[:, label_index]\n",
    "    ls_scv = Pipeline([\n",
    "        (\"standardize\", StandardScaler()),\n",
    "        (\"svc\", LinearSVC(penalty=\"l1\", multi_class='ovr', dual=False))])\n",
    "    gridCV = GridSearchCV(ls_scv, parameters, cv=10, n_jobs=-1)\n",
    "    gridCV.fit(X_train, y_train)\n",
    "\n",
    "    bestClf = gridCV.best_estimator_\n",
    "    y_predict = bestClf.predict(StandardScaler().fit(X_test).transform(X_test))\n",
    "\n",
    "    print(\"-------------------------\" + LABELS_NAME[label_index] + \"---------------------------\")\n",
    "    print(\"Using L1 penalized SVM, The best params are: \", gridCV.best_params_)\n",
    "\n",
    "    print(\"Using L1 penalized SVM, The accuracy score is: \", accuracy_score(y_test, y_predict))\n",
    "\n",
    "    print(\"Using L1 penalized SVM, The hamming loss is: \", hamming_loss(y_test, y_predict))"
   ]
  },
  {
   "cell_type": "markdown",
   "metadata": {},
   "source": [
    "b) iv. Repeat 1(b)iii by using SMOTE or any other method you know to remedy class imbalance. Report your conclusions about the classifiers you trained."
   ]
  },
  {
   "cell_type": "code",
   "execution_count": 62,
   "metadata": {},
   "outputs": [
    {
     "name": "stdout",
     "output_type": "stream",
     "text": [
      "-------------------------Family---------------------------\n",
      "Using RawData, The best params are:  {'svc__C': 77.4263682681127, 'svc__tol': 0.0001}\n",
      "Using RawData, The accuracy score is:  0.9486882716049383\n",
      "Using RawData, The hamming loss is:  0.05131172839506173\n",
      "-------------------------Genus---------------------------\n",
      "Using RawData, The best params are:  {'svc__C': 2.1544346900318843, 'svc__tol': 1e-07}\n",
      "Using RawData, The accuracy score is:  0.9464727722772277\n",
      "Using RawData, The hamming loss is:  0.053527227722772276\n",
      "-------------------------Species---------------------------\n",
      "Using RawData, The best params are:  {'svc__C': 2.1544346900318843, 'svc__tol': 1e-06}\n",
      "Using RawData, The accuracy score is:  0.9488095238095238\n",
      "Using RawData, The hamming loss is:  0.05119047619047619\n"
     ]
    }
   ],
   "source": [
    "for label_index in range(Y_train.shape[1]):\n",
    "    y_train = Y_train.iloc[:, label_index]\n",
    "    y_test = Y_test.iloc[:, label_index]\n",
    "\n",
    "    smote = SMOTE(random_state=2333)\n",
    "    X_train_smote, y_train_smote = smote.fit_sample(X_train, y_train)\n",
    "    X_test_smote, y_test_smote = smote.fit_sample(X_test, y_test)\n",
    "\n",
    "    ls_scv = Pipeline([\n",
    "        (\"standardize\", StandardScaler()),\n",
    "        (\"svc\", LinearSVC(penalty=\"l1\", multi_class='ovr', dual=False))])\n",
    "    gridCV = GridSearchCV(ls_scv, parameters, cv=10, n_jobs=-1)\n",
    "    gridCV.fit(X_train_smote, y_train_smote)\n",
    "\n",
    "    bestClf = gridCV.best_estimator_\n",
    "    y_predict = bestClf.predict(X_test_smote)\n",
    "\n",
    "    print(\"-------------------------\" + LABELS_NAME[label_index] + \"---------------------------\")\n",
    "    print(\"Using RawData, The best params are: \", gridCV.best_params_)\n",
    "\n",
    "    print(\"Using RawData, The accuracy score is: \", accuracy_score(y_test_smote, y_predict))\n",
    "\n",
    "    print(\"Using RawData, The hamming loss is: \", hamming_loss(y_test_smote, y_predict))"
   ]
  },
  {
   "cell_type": "markdown",
   "metadata": {},
   "source": [
    "2. K-Means Clustering on a Multi-Class and Multi-Label Data Set <br>Monte-Carlo Simulation: Perform the following procedures 50 times, and report\n",
    "the average and standard deviation of the 50 Hamming Distances that you calculate.<br>\n",
    "(a) Use k-means clustering on the whole Anuran Calls (MFCCs) Data Set (do not split the data into train and test, as we are not performing supervised learning in this exercise). Choose k ∈ {1, 2, . . . , 50} automatically based on one of the methods provided in the slides (CH or Gap Statistics or scree plots or Silhouettes) or any other method you know."
   ]
  },
  {
   "cell_type": "code",
   "execution_count": 63,
   "metadata": {},
   "outputs": [
    {
     "name": "stdout",
     "output_type": "stream",
     "text": [
      "The Best K is :  4\n",
      "Max Silhouette Score is :  0.38525558106940383\n",
      "The average of Hamming Distance is :  0.2906301371169735\n",
      "The standard deviation of Hamming Distance is :  0.06556489991769904\n"
     ]
    }
   ],
   "source": [
    "avg_scores = []\n",
    "hamming_dist = []\n",
    "k_list = []\n",
    "for i in range(50):\n",
    "    temp_avg_scores = []\n",
    "    for k in range(2, 51):\n",
    "        k_means_clf = KMeans(n_clusters=k, random_state=i)\n",
    "        cluster_labels = k_means_clf.fit_predict(X_train)\n",
    "        temp_avg_scores.append(silhouette_score(X_train, cluster_labels))\n",
    "        hamming_dist.append(\n",
    "            sum(np.min(cdist(X_train, k_means_clf.cluster_centers_, 'euclidean'), \n",
    "                       axis=1)) / X_train.shape[0])\n",
    "\n",
    "    temp_best_k = temp_avg_scores.index(max(temp_avg_scores)) + 2\n",
    "    k_list.append(temp_best_k)\n",
    "    avg_scores.append(max(temp_avg_scores))\n",
    "\n",
    "print(\"The Best K is : \", Counter(k_list).most_common(1)[0][0])\n",
    "print(\"Max Silhouette Score is : \", max(avg_scores))\n",
    "print(\"The average of Hamming Distance is : \", np.average(hamming_dist))\n",
    "print(\"The standard deviation of Hamming Distance is : \", np.std(hamming_dist))"
   ]
  },
  {
   "cell_type": "markdown",
   "metadata": {},
   "source": [
    "2) (b) In each cluster, determine which family is the majority by reading the true labels. Repeat for genus and species."
   ]
  },
  {
   "cell_type": "code",
   "execution_count": 67,
   "metadata": {
    "scrolled": false
   },
   "outputs": [
    {
     "name": "stdout",
     "output_type": "stream",
     "text": [
      "in 1 th loop, the best k is 4, and the majority class in each label is : {0: {'Family': 'Leptodactylidae', 'Genus': 'Adenomera', 'Species': 'AdenomeraHylaedactylus'}, 1: {'Family': 'Hylidae', 'Genus': 'Hypsiboas', 'Species': 'HypsiboasCordobae'}, 2: {'Family': 'Hylidae', 'Genus': 'Hypsiboas', 'Species': 'HypsiboasCinerascens'}, 3: {'Family': 'Dendrobatidae', 'Genus': 'Ameerega', 'Species': 'Ameeregatrivittata'}}\n",
      "in 2 th loop, the best k is 4, and the majority class in each label is : {0: {'Family': 'Hylidae', 'Genus': 'Hypsiboas', 'Species': 'HypsiboasCinerascens'}, 1: {'Family': 'Leptodactylidae', 'Genus': 'Adenomera', 'Species': 'AdenomeraHylaedactylus'}, 2: {'Family': 'Hylidae', 'Genus': 'Hypsiboas', 'Species': 'HypsiboasCordobae'}, 3: {'Family': 'Dendrobatidae', 'Genus': 'Ameerega', 'Species': 'Ameeregatrivittata'}}\n",
      "in 3 th loop, the best k is 4, and the majority class in each label is : {0: {'Family': 'Hylidae', 'Genus': 'Hypsiboas', 'Species': 'HypsiboasCinerascens'}, 1: {'Family': 'Leptodactylidae', 'Genus': 'Adenomera', 'Species': 'AdenomeraHylaedactylus'}, 2: {'Family': 'Hylidae', 'Genus': 'Hypsiboas', 'Species': 'HypsiboasCordobae'}, 3: {'Family': 'Dendrobatidae', 'Genus': 'Ameerega', 'Species': 'Ameeregatrivittata'}}\n",
      "in 4 th loop, the best k is 4, and the majority class in each label is : {0: {'Family': 'Leptodactylidae', 'Genus': 'Adenomera', 'Species': 'AdenomeraHylaedactylus'}, 1: {'Family': 'Hylidae', 'Genus': 'Hypsiboas', 'Species': 'HypsiboasCinerascens'}, 2: {'Family': 'Dendrobatidae', 'Genus': 'Ameerega', 'Species': 'Ameeregatrivittata'}, 3: {'Family': 'Hylidae', 'Genus': 'Hypsiboas', 'Species': 'HypsiboasCordobae'}}\n",
      "in 5 th loop, the best k is 4, and the majority class in each label is : {0: {'Family': 'Hylidae', 'Genus': 'Hypsiboas', 'Species': 'HypsiboasCordobae'}, 1: {'Family': 'Leptodactylidae', 'Genus': 'Adenomera', 'Species': 'AdenomeraHylaedactylus'}, 2: {'Family': 'Hylidae', 'Genus': 'Hypsiboas', 'Species': 'HypsiboasCinerascens'}, 3: {'Family': 'Dendrobatidae', 'Genus': 'Ameerega', 'Species': 'Ameeregatrivittata'}}\n",
      "in 6 th loop, the best k is 4, and the majority class in each label is : {0: {'Family': 'Leptodactylidae', 'Genus': 'Adenomera', 'Species': 'AdenomeraHylaedactylus'}, 1: {'Family': 'Hylidae', 'Genus': 'Hypsiboas', 'Species': 'HypsiboasCordobae'}, 2: {'Family': 'Hylidae', 'Genus': 'Hypsiboas', 'Species': 'HypsiboasCinerascens'}, 3: {'Family': 'Dendrobatidae', 'Genus': 'Ameerega', 'Species': 'Ameeregatrivittata'}}\n",
      "in 7 th loop, the best k is 4, and the majority class in each label is : {0: {'Family': 'Dendrobatidae', 'Genus': 'Ameerega', 'Species': 'Ameeregatrivittata'}, 1: {'Family': 'Leptodactylidae', 'Genus': 'Adenomera', 'Species': 'AdenomeraHylaedactylus'}, 2: {'Family': 'Hylidae', 'Genus': 'Hypsiboas', 'Species': 'HypsiboasCordobae'}, 3: {'Family': 'Hylidae', 'Genus': 'Hypsiboas', 'Species': 'HypsiboasCinerascens'}}\n",
      "in 8 th loop, the best k is 4, and the majority class in each label is : {0: {'Family': 'Hylidae', 'Genus': 'Hypsiboas', 'Species': 'HypsiboasCordobae'}, 1: {'Family': 'Leptodactylidae', 'Genus': 'Adenomera', 'Species': 'AdenomeraHylaedactylus'}, 2: {'Family': 'Leptodactylidae', 'Genus': 'Adenomera', 'Species': 'AdenomeraAndre'}, 3: {'Family': 'Hylidae', 'Genus': 'Hypsiboas', 'Species': 'HypsiboasCordobae'}}\n",
      "in 9 th loop, the best k is 4, and the majority class in each label is : {0: {'Family': 'Hylidae', 'Genus': 'Hypsiboas', 'Species': 'HypsiboasCordobae'}, 1: {'Family': 'Leptodactylidae', 'Genus': 'Adenomera', 'Species': 'AdenomeraHylaedactylus'}, 2: {'Family': 'Dendrobatidae', 'Genus': 'Ameerega', 'Species': 'Ameeregatrivittata'}, 3: {'Family': 'Hylidae', 'Genus': 'Hypsiboas', 'Species': 'HypsiboasCinerascens'}}\n",
      "in 10 th loop, the best k is 4, and the majority class in each label is : {0: {'Family': 'Dendrobatidae', 'Genus': 'Ameerega', 'Species': 'Ameeregatrivittata'}, 1: {'Family': 'Hylidae', 'Genus': 'Hypsiboas', 'Species': 'HypsiboasCordobae'}, 2: {'Family': 'Hylidae', 'Genus': 'Hypsiboas', 'Species': 'HypsiboasCinerascens'}, 3: {'Family': 'Leptodactylidae', 'Genus': 'Adenomera', 'Species': 'AdenomeraHylaedactylus'}}\n",
      "in 11 th loop, the best k is 4, and the majority class in each label is : {0: {'Family': 'Leptodactylidae', 'Genus': 'Adenomera', 'Species': 'AdenomeraHylaedactylus'}, 1: {'Family': 'Dendrobatidae', 'Genus': 'Ameerega', 'Species': 'Ameeregatrivittata'}, 2: {'Family': 'Hylidae', 'Genus': 'Hypsiboas', 'Species': 'HypsiboasCordobae'}, 3: {'Family': 'Hylidae', 'Genus': 'Hypsiboas', 'Species': 'HypsiboasCinerascens'}}\n",
      "in 12 th loop, the best k is 4, and the majority class in each label is : {0: {'Family': 'Leptodactylidae', 'Genus': 'Adenomera', 'Species': 'AdenomeraHylaedactylus'}, 1: {'Family': 'Hylidae', 'Genus': 'Hypsiboas', 'Species': 'HypsiboasCinerascens'}, 2: {'Family': 'Dendrobatidae', 'Genus': 'Ameerega', 'Species': 'Ameeregatrivittata'}, 3: {'Family': 'Hylidae', 'Genus': 'Hypsiboas', 'Species': 'HypsiboasCordobae'}}\n",
      "in 13 th loop, the best k is 4, and the majority class in each label is : {0: {'Family': 'Leptodactylidae', 'Genus': 'Adenomera', 'Species': 'AdenomeraHylaedactylus'}, 1: {'Family': 'Hylidae', 'Genus': 'Hypsiboas', 'Species': 'HypsiboasCordobae'}, 2: {'Family': 'Dendrobatidae', 'Genus': 'Ameerega', 'Species': 'Ameeregatrivittata'}, 3: {'Family': 'Hylidae', 'Genus': 'Hypsiboas', 'Species': 'HypsiboasCinerascens'}}\n",
      "in 14 th loop, the best k is 4, and the majority class in each label is : {0: {'Family': 'Dendrobatidae', 'Genus': 'Ameerega', 'Species': 'Ameeregatrivittata'}, 1: {'Family': 'Leptodactylidae', 'Genus': 'Adenomera', 'Species': 'AdenomeraHylaedactylus'}, 2: {'Family': 'Hylidae', 'Genus': 'Hypsiboas', 'Species': 'HypsiboasCinerascens'}, 3: {'Family': 'Hylidae', 'Genus': 'Hypsiboas', 'Species': 'HypsiboasCordobae'}}\n",
      "in 15 th loop, the best k is 4, and the majority class in each label is : {0: {'Family': 'Leptodactylidae', 'Genus': 'Adenomera', 'Species': 'AdenomeraHylaedactylus'}, 1: {'Family': 'Hylidae', 'Genus': 'Hypsiboas', 'Species': 'HypsiboasCinerascens'}, 2: {'Family': 'Dendrobatidae', 'Genus': 'Ameerega', 'Species': 'Ameeregatrivittata'}, 3: {'Family': 'Hylidae', 'Genus': 'Hypsiboas', 'Species': 'HypsiboasCordobae'}}\n",
      "in 16 th loop, the best k is 4, and the majority class in each label is : {0: {'Family': 'Hylidae', 'Genus': 'Hypsiboas', 'Species': 'HypsiboasCordobae'}, 1: {'Family': 'Dendrobatidae', 'Genus': 'Ameerega', 'Species': 'Ameeregatrivittata'}, 2: {'Family': 'Leptodactylidae', 'Genus': 'Adenomera', 'Species': 'AdenomeraHylaedactylus'}, 3: {'Family': 'Hylidae', 'Genus': 'Hypsiboas', 'Species': 'HypsiboasCinerascens'}}\n",
      "in 17 th loop, the best k is 4, and the majority class in each label is : {0: {'Family': 'Leptodactylidae', 'Genus': 'Adenomera', 'Species': 'AdenomeraHylaedactylus'}, 1: {'Family': 'Hylidae', 'Genus': 'Hypsiboas', 'Species': 'HypsiboasCordobae'}, 2: {'Family': 'Hylidae', 'Genus': 'Hypsiboas', 'Species': 'HypsiboasCinerascens'}, 3: {'Family': 'Dendrobatidae', 'Genus': 'Ameerega', 'Species': 'Ameeregatrivittata'}}\n",
      "in 18 th loop, the best k is 4, and the majority class in each label is : {0: {'Family': 'Dendrobatidae', 'Genus': 'Ameerega', 'Species': 'Ameeregatrivittata'}, 1: {'Family': 'Leptodactylidae', 'Genus': 'Adenomera', 'Species': 'AdenomeraHylaedactylus'}, 2: {'Family': 'Hylidae', 'Genus': 'Hypsiboas', 'Species': 'HypsiboasCinerascens'}, 3: {'Family': 'Hylidae', 'Genus': 'Hypsiboas', 'Species': 'HypsiboasCordobae'}}\n",
      "in 19 th loop, the best k is 4, and the majority class in each label is : {0: {'Family': 'Leptodactylidae', 'Genus': 'Adenomera', 'Species': 'AdenomeraHylaedactylus'}, 1: {'Family': 'Hylidae', 'Genus': 'Hypsiboas', 'Species': 'HypsiboasCinerascens'}, 2: {'Family': 'Hylidae', 'Genus': 'Hypsiboas', 'Species': 'HypsiboasCordobae'}, 3: {'Family': 'Dendrobatidae', 'Genus': 'Ameerega', 'Species': 'Ameeregatrivittata'}}\n",
      "in 20 th loop, the best k is 4, and the majority class in each label is : {0: {'Family': 'Dendrobatidae', 'Genus': 'Ameerega', 'Species': 'Ameeregatrivittata'}, 1: {'Family': 'Hylidae', 'Genus': 'Hypsiboas', 'Species': 'HypsiboasCordobae'}, 2: {'Family': 'Leptodactylidae', 'Genus': 'Adenomera', 'Species': 'AdenomeraHylaedactylus'}, 3: {'Family': 'Hylidae', 'Genus': 'Hypsiboas', 'Species': 'HypsiboasCinerascens'}}\n"
     ]
    },
    {
     "name": "stdout",
     "output_type": "stream",
     "text": [
      "in 21 th loop, the best k is 4, and the majority class in each label is : {0: {'Family': 'Leptodactylidae', 'Genus': 'Adenomera', 'Species': 'AdenomeraHylaedactylus'}, 1: {'Family': 'Hylidae', 'Genus': 'Hypsiboas', 'Species': 'HypsiboasCordobae'}, 2: {'Family': 'Hylidae', 'Genus': 'Hypsiboas', 'Species': 'HypsiboasCinerascens'}, 3: {'Family': 'Dendrobatidae', 'Genus': 'Ameerega', 'Species': 'Ameeregatrivittata'}}\n",
      "in 22 th loop, the best k is 4, and the majority class in each label is : {0: {'Family': 'Dendrobatidae', 'Genus': 'Ameerega', 'Species': 'Ameeregatrivittata'}, 1: {'Family': 'Leptodactylidae', 'Genus': 'Adenomera', 'Species': 'AdenomeraHylaedactylus'}, 2: {'Family': 'Hylidae', 'Genus': 'Hypsiboas', 'Species': 'HypsiboasCordobae'}, 3: {'Family': 'Hylidae', 'Genus': 'Hypsiboas', 'Species': 'HypsiboasCinerascens'}}\n",
      "in 23 th loop, the best k is 4, and the majority class in each label is : {0: {'Family': 'Dendrobatidae', 'Genus': 'Ameerega', 'Species': 'Ameeregatrivittata'}, 1: {'Family': 'Hylidae', 'Genus': 'Hypsiboas', 'Species': 'HypsiboasCinerascens'}, 2: {'Family': 'Leptodactylidae', 'Genus': 'Adenomera', 'Species': 'AdenomeraHylaedactylus'}, 3: {'Family': 'Hylidae', 'Genus': 'Hypsiboas', 'Species': 'HypsiboasCordobae'}}\n",
      "in 24 th loop, the best k is 4, and the majority class in each label is : {0: {'Family': 'Leptodactylidae', 'Genus': 'Adenomera', 'Species': 'AdenomeraHylaedactylus'}, 1: {'Family': 'Hylidae', 'Genus': 'Hypsiboas', 'Species': 'HypsiboasCinerascens'}, 2: {'Family': 'Dendrobatidae', 'Genus': 'Ameerega', 'Species': 'Ameeregatrivittata'}, 3: {'Family': 'Hylidae', 'Genus': 'Hypsiboas', 'Species': 'HypsiboasCordobae'}}\n",
      "in 25 th loop, the best k is 4, and the majority class in each label is : {0: {'Family': 'Hylidae', 'Genus': 'Hypsiboas', 'Species': 'HypsiboasCinerascens'}, 1: {'Family': 'Hylidae', 'Genus': 'Hypsiboas', 'Species': 'HypsiboasCordobae'}, 2: {'Family': 'Dendrobatidae', 'Genus': 'Ameerega', 'Species': 'Ameeregatrivittata'}, 3: {'Family': 'Leptodactylidae', 'Genus': 'Adenomera', 'Species': 'AdenomeraHylaedactylus'}}\n",
      "in 26 th loop, the best k is 4, and the majority class in each label is : {0: {'Family': 'Leptodactylidae', 'Genus': 'Adenomera', 'Species': 'AdenomeraHylaedactylus'}, 1: {'Family': 'Hylidae', 'Genus': 'Hypsiboas', 'Species': 'HypsiboasCordobae'}, 2: {'Family': 'Hylidae', 'Genus': 'Hypsiboas', 'Species': 'HypsiboasCinerascens'}, 3: {'Family': 'Dendrobatidae', 'Genus': 'Ameerega', 'Species': 'Ameeregatrivittata'}}\n",
      "in 27 th loop, the best k is 4, and the majority class in each label is : {0: {'Family': 'Leptodactylidae', 'Genus': 'Adenomera', 'Species': 'AdenomeraHylaedactylus'}, 1: {'Family': 'Hylidae', 'Genus': 'Hypsiboas', 'Species': 'HypsiboasCordobae'}, 2: {'Family': 'Dendrobatidae', 'Genus': 'Ameerega', 'Species': 'Ameeregatrivittata'}, 3: {'Family': 'Hylidae', 'Genus': 'Hypsiboas', 'Species': 'HypsiboasCinerascens'}}\n",
      "in 28 th loop, the best k is 4, and the majority class in each label is : {0: {'Family': 'Dendrobatidae', 'Genus': 'Ameerega', 'Species': 'Ameeregatrivittata'}, 1: {'Family': 'Hylidae', 'Genus': 'Hypsiboas', 'Species': 'HypsiboasCordobae'}, 2: {'Family': 'Hylidae', 'Genus': 'Hypsiboas', 'Species': 'HypsiboasCinerascens'}, 3: {'Family': 'Leptodactylidae', 'Genus': 'Adenomera', 'Species': 'AdenomeraHylaedactylus'}}\n",
      "in 29 th loop, the best k is 4, and the majority class in each label is : {0: {'Family': 'Leptodactylidae', 'Genus': 'Adenomera', 'Species': 'AdenomeraHylaedactylus'}, 1: {'Family': 'Hylidae', 'Genus': 'Hypsiboas', 'Species': 'HypsiboasCinerascens'}, 2: {'Family': 'Hylidae', 'Genus': 'Hypsiboas', 'Species': 'HypsiboasCordobae'}, 3: {'Family': 'Dendrobatidae', 'Genus': 'Ameerega', 'Species': 'Ameeregatrivittata'}}\n",
      "in 30 th loop, the best k is 4, and the majority class in each label is : {0: {'Family': 'Hylidae', 'Genus': 'Hypsiboas', 'Species': 'HypsiboasCinerascens'}, 1: {'Family': 'Leptodactylidae', 'Genus': 'Adenomera', 'Species': 'AdenomeraHylaedactylus'}, 2: {'Family': 'Dendrobatidae', 'Genus': 'Ameerega', 'Species': 'Ameeregatrivittata'}, 3: {'Family': 'Hylidae', 'Genus': 'Hypsiboas', 'Species': 'HypsiboasCordobae'}}\n",
      "in 31 th loop, the best k is 4, and the majority class in each label is : {0: {'Family': 'Leptodactylidae', 'Genus': 'Adenomera', 'Species': 'AdenomeraHylaedactylus'}, 1: {'Family': 'Hylidae', 'Genus': 'Hypsiboas', 'Species': 'HypsiboasCordobae'}, 2: {'Family': 'Hylidae', 'Genus': 'Hypsiboas', 'Species': 'HypsiboasCinerascens'}, 3: {'Family': 'Dendrobatidae', 'Genus': 'Ameerega', 'Species': 'Ameeregatrivittata'}}\n",
      "in 32 th loop, the best k is 4, and the majority class in each label is : {0: {'Family': 'Hylidae', 'Genus': 'Hypsiboas', 'Species': 'HypsiboasCinerascens'}, 1: {'Family': 'Leptodactylidae', 'Genus': 'Adenomera', 'Species': 'AdenomeraHylaedactylus'}, 2: {'Family': 'Leptodactylidae', 'Genus': 'Adenomera', 'Species': 'AdenomeraAndre'}, 3: {'Family': 'Hylidae', 'Genus': 'Hypsiboas', 'Species': 'HypsiboasCordobae'}}\n",
      "in 33 th loop, the best k is 4, and the majority class in each label is : {0: {'Family': 'Hylidae', 'Genus': 'Hypsiboas', 'Species': 'HypsiboasCordobae'}, 1: {'Family': 'Hylidae', 'Genus': 'Hypsiboas', 'Species': 'HypsiboasCinerascens'}, 2: {'Family': 'Leptodactylidae', 'Genus': 'Adenomera', 'Species': 'AdenomeraHylaedactylus'}, 3: {'Family': 'Dendrobatidae', 'Genus': 'Ameerega', 'Species': 'Ameeregatrivittata'}}\n",
      "in 34 th loop, the best k is 4, and the majority class in each label is : {0: {'Family': 'Leptodactylidae', 'Genus': 'Adenomera', 'Species': 'AdenomeraHylaedactylus'}, 1: {'Family': 'Hylidae', 'Genus': 'Hypsiboas', 'Species': 'HypsiboasCinerascens'}, 2: {'Family': 'Dendrobatidae', 'Genus': 'Ameerega', 'Species': 'Ameeregatrivittata'}, 3: {'Family': 'Hylidae', 'Genus': 'Hypsiboas', 'Species': 'HypsiboasCordobae'}}\n",
      "in 35 th loop, the best k is 4, and the majority class in each label is : {0: {'Family': 'Leptodactylidae', 'Genus': 'Adenomera', 'Species': 'AdenomeraHylaedactylus'}, 1: {'Family': 'Hylidae', 'Genus': 'Hypsiboas', 'Species': 'HypsiboasCordobae'}, 2: {'Family': 'Leptodactylidae', 'Genus': 'Adenomera', 'Species': 'AdenomeraAndre'}, 3: {'Family': 'Hylidae', 'Genus': 'Hypsiboas', 'Species': 'HypsiboasCordobae'}}\n",
      "in 36 th loop, the best k is 4, and the majority class in each label is : {0: {'Family': 'Leptodactylidae', 'Genus': 'Adenomera', 'Species': 'AdenomeraHylaedactylus'}, 1: {'Family': 'Hylidae', 'Genus': 'Hypsiboas', 'Species': 'HypsiboasCordobae'}, 2: {'Family': 'Dendrobatidae', 'Genus': 'Ameerega', 'Species': 'Ameeregatrivittata'}, 3: {'Family': 'Hylidae', 'Genus': 'Hypsiboas', 'Species': 'HypsiboasCinerascens'}}\n",
      "in 37 th loop, the best k is 4, and the majority class in each label is : {0: {'Family': 'Dendrobatidae', 'Genus': 'Ameerega', 'Species': 'Ameeregatrivittata'}, 1: {'Family': 'Hylidae', 'Genus': 'Hypsiboas', 'Species': 'HypsiboasCinerascens'}, 2: {'Family': 'Leptodactylidae', 'Genus': 'Adenomera', 'Species': 'AdenomeraHylaedactylus'}, 3: {'Family': 'Hylidae', 'Genus': 'Hypsiboas', 'Species': 'HypsiboasCordobae'}}\n",
      "in 38 th loop, the best k is 4, and the majority class in each label is : {0: {'Family': 'Dendrobatidae', 'Genus': 'Ameerega', 'Species': 'Ameeregatrivittata'}, 1: {'Family': 'Hylidae', 'Genus': 'Hypsiboas', 'Species': 'HypsiboasCinerascens'}, 2: {'Family': 'Leptodactylidae', 'Genus': 'Adenomera', 'Species': 'AdenomeraHylaedactylus'}, 3: {'Family': 'Hylidae', 'Genus': 'Hypsiboas', 'Species': 'HypsiboasCordobae'}}\n",
      "in 39 th loop, the best k is 4, and the majority class in each label is : {0: {'Family': 'Hylidae', 'Genus': 'Hypsiboas', 'Species': 'HypsiboasCinerascens'}, 1: {'Family': 'Leptodactylidae', 'Genus': 'Adenomera', 'Species': 'AdenomeraHylaedactylus'}, 2: {'Family': 'Dendrobatidae', 'Genus': 'Ameerega', 'Species': 'Ameeregatrivittata'}, 3: {'Family': 'Hylidae', 'Genus': 'Hypsiboas', 'Species': 'HypsiboasCordobae'}}\n",
      "in 40 th loop, the best k is 4, and the majority class in each label is : {0: {'Family': 'Leptodactylidae', 'Genus': 'Adenomera', 'Species': 'AdenomeraHylaedactylus'}, 1: {'Family': 'Dendrobatidae', 'Genus': 'Ameerega', 'Species': 'Ameeregatrivittata'}, 2: {'Family': 'Hylidae', 'Genus': 'Hypsiboas', 'Species': 'HypsiboasCordobae'}, 3: {'Family': 'Hylidae', 'Genus': 'Hypsiboas', 'Species': 'HypsiboasCinerascens'}}\n"
     ]
    },
    {
     "name": "stdout",
     "output_type": "stream",
     "text": [
      "in 41 th loop, the best k is 4, and the majority class in each label is : {0: {'Family': 'Leptodactylidae', 'Genus': 'Adenomera', 'Species': 'AdenomeraAndre'}, 1: {'Family': 'Hylidae', 'Genus': 'Hypsiboas', 'Species': 'HypsiboasCordobae'}, 2: {'Family': 'Leptodactylidae', 'Genus': 'Adenomera', 'Species': 'AdenomeraHylaedactylus'}, 3: {'Family': 'Hylidae', 'Genus': 'Hypsiboas', 'Species': 'HypsiboasCinerascens'}}\n",
      "in 42 th loop, the best k is 4, and the majority class in each label is : {0: {'Family': 'Hylidae', 'Genus': 'Hypsiboas', 'Species': 'HypsiboasCinerascens'}, 1: {'Family': 'Leptodactylidae', 'Genus': 'Adenomera', 'Species': 'AdenomeraHylaedactylus'}, 2: {'Family': 'Dendrobatidae', 'Genus': 'Ameerega', 'Species': 'Ameeregatrivittata'}, 3: {'Family': 'Hylidae', 'Genus': 'Hypsiboas', 'Species': 'HypsiboasCordobae'}}\n",
      "in 43 th loop, the best k is 4, and the majority class in each label is : {0: {'Family': 'Leptodactylidae', 'Genus': 'Adenomera', 'Species': 'AdenomeraHylaedactylus'}, 1: {'Family': 'Hylidae', 'Genus': 'Hypsiboas', 'Species': 'HypsiboasCordobae'}, 2: {'Family': 'Dendrobatidae', 'Genus': 'Ameerega', 'Species': 'Ameeregatrivittata'}, 3: {'Family': 'Hylidae', 'Genus': 'Hypsiboas', 'Species': 'HypsiboasCinerascens'}}\n",
      "in 44 th loop, the best k is 4, and the majority class in each label is : {0: {'Family': 'Leptodactylidae', 'Genus': 'Adenomera', 'Species': 'AdenomeraHylaedactylus'}, 1: {'Family': 'Hylidae', 'Genus': 'Hypsiboas', 'Species': 'HypsiboasCordobae'}, 2: {'Family': 'Dendrobatidae', 'Genus': 'Ameerega', 'Species': 'Ameeregatrivittata'}, 3: {'Family': 'Hylidae', 'Genus': 'Hypsiboas', 'Species': 'HypsiboasCinerascens'}}\n",
      "in 45 th loop, the best k is 4, and the majority class in each label is : {0: {'Family': 'Hylidae', 'Genus': 'Hypsiboas', 'Species': 'HypsiboasCinerascens'}, 1: {'Family': 'Leptodactylidae', 'Genus': 'Adenomera', 'Species': 'AdenomeraHylaedactylus'}, 2: {'Family': 'Dendrobatidae', 'Genus': 'Ameerega', 'Species': 'Ameeregatrivittata'}, 3: {'Family': 'Hylidae', 'Genus': 'Hypsiboas', 'Species': 'HypsiboasCordobae'}}\n",
      "in 46 th loop, the best k is 4, and the majority class in each label is : {0: {'Family': 'Leptodactylidae', 'Genus': 'Adenomera', 'Species': 'AdenomeraHylaedactylus'}, 1: {'Family': 'Hylidae', 'Genus': 'Hypsiboas', 'Species': 'HypsiboasCordobae'}, 2: {'Family': 'Dendrobatidae', 'Genus': 'Ameerega', 'Species': 'Ameeregatrivittata'}, 3: {'Family': 'Hylidae', 'Genus': 'Hypsiboas', 'Species': 'HypsiboasCinerascens'}}\n",
      "in 47 th loop, the best k is 4, and the majority class in each label is : {0: {'Family': 'Hylidae', 'Genus': 'Hypsiboas', 'Species': 'HypsiboasCordobae'}, 1: {'Family': 'Leptodactylidae', 'Genus': 'Adenomera', 'Species': 'AdenomeraHylaedactylus'}, 2: {'Family': 'Leptodactylidae', 'Genus': 'Adenomera', 'Species': 'AdenomeraAndre'}, 3: {'Family': 'Hylidae', 'Genus': 'Hypsiboas', 'Species': 'HypsiboasCordobae'}}\n",
      "in 48 th loop, the best k is 4, and the majority class in each label is : {0: {'Family': 'Hylidae', 'Genus': 'Hypsiboas', 'Species': 'HypsiboasCinerascens'}, 1: {'Family': 'Leptodactylidae', 'Genus': 'Adenomera', 'Species': 'AdenomeraHylaedactylus'}, 2: {'Family': 'Dendrobatidae', 'Genus': 'Ameerega', 'Species': 'Ameeregatrivittata'}, 3: {'Family': 'Hylidae', 'Genus': 'Hypsiboas', 'Species': 'HypsiboasCordobae'}}\n",
      "in 49 th loop, the best k is 4, and the majority class in each label is : {0: {'Family': 'Hylidae', 'Genus': 'Hypsiboas', 'Species': 'HypsiboasCinerascens'}, 1: {'Family': 'Leptodactylidae', 'Genus': 'Adenomera', 'Species': 'AdenomeraHylaedactylus'}, 2: {'Family': 'Hylidae', 'Genus': 'Hypsiboas', 'Species': 'HypsiboasCordobae'}, 3: {'Family': 'Dendrobatidae', 'Genus': 'Ameerega', 'Species': 'Ameeregatrivittata'}}\n",
      "in 50 th loop, the best k is 4, and the majority class in each label is : {0: {'Family': 'Hylidae', 'Genus': 'Hypsiboas', 'Species': 'HypsiboasCordobae'}, 1: {'Family': 'Leptodactylidae', 'Genus': 'Adenomera', 'Species': 'AdenomeraHylaedactylus'}, 2: {'Family': 'Dendrobatidae', 'Genus': 'Ameerega', 'Species': 'Ameeregatrivittata'}, 3: {'Family': 'Hylidae', 'Genus': 'Hypsiboas', 'Species': 'HypsiboasCinerascens'}}\n"
     ]
    }
   ],
   "source": [
    "PREDICT_LABEL = 'predicted'\n",
    "\n",
    "y_data_pre = pd.DataFrame(y_data, columns=LABELS_NAME)\n",
    "\n",
    "avg_scores = []\n",
    "for i in range(1, 51):\n",
    "    temp_avg_scores = []\n",
    "    predicted_results = []\n",
    "    for k in range(2, 5):\n",
    "        k_means_clf = KMeans(n_clusters=k, random_state=i)\n",
    "        predicted_labels = k_means_clf.fit_predict(X_train)\n",
    "        predicted_results.append(predicted_labels)\n",
    "        temp_avg_scores.append(silhouette_score(X_train, predicted_labels))\n",
    "\n",
    "    temp_best_k = temp_avg_scores.index(max(temp_avg_scores)) + 2\n",
    "    majority_label = dict()\n",
    "    y_data_pre[PREDICT_LABEL] = predicted_results[np.argmax(temp_avg_scores)]\n",
    "\n",
    "    for class_index in range(temp_best_k):\n",
    "        matched_label_data = y_data_pre[y_data_pre[PREDICT_LABEL] == class_index]\n",
    "        temp = {}\n",
    "        for column in LABELS_NAME:\n",
    "            temp[column] = Counter(matched_label_data[column]).most_common(1)[0][0]\n",
    "        majority_label[class_index] = temp\n",
    "\n",
    "    print(\"in {} th loop, the best k is {}, and the majority class in each label is : {}\"\n",
    "          .format(i, temp_best_k, majority_label))"
   ]
  },
  {
   "cell_type": "markdown",
   "metadata": {},
   "source": [
    "2) (c) Now for each cluster you have a majority label triplet (family, genus, species). Calculate the average Hamming distance, Hamming score, and Hamming loss5 between the true labels and the labels assigned by clusters."
   ]
  },
  {
   "cell_type": "code",
   "execution_count": 68,
   "metadata": {},
   "outputs": [
    {
     "name": "stdout",
     "output_type": "stream",
     "text": [
      "The average of Hamming Distance is :  0.41746938573917064\n",
      "The average of Hamming Score is :  0.7758665740097288\n",
      "The average of Hamming Loss is :  0.22413342599027103\n"
     ]
    }
   ],
   "source": [
    "y_data_ham = pd.DataFrame(y_data, columns=LABELS_NAME)\n",
    "\n",
    "hamming_loss_list = list()\n",
    "hamming_dist = list()\n",
    "avg_scores = []\n",
    "for i in range(1, 51):\n",
    "    temp_avg_scores = []\n",
    "    predicted_results = []\n",
    "    for k in range(2, 10):\n",
    "        k_means_clf = KMeans(n_clusters=k, random_state=i)\n",
    "        predicted_labels = k_means_clf.fit_predict(X_train)\n",
    "        predicted_results.append(predicted_labels)\n",
    "        temp_avg_scores.append(silhouette_score(X_train, predicted_labels))\n",
    "        hamming_dist.append(\n",
    "            sum(np.min(cdist(X_train, k_means_clf.cluster_centers_, 'euclidean'), \n",
    "                       axis=1)) / X_train.shape[0])\n",
    "\n",
    "    temp_best_k = temp_avg_scores.index(max(temp_avg_scores)) + 2\n",
    "    majority_label = dict()\n",
    "    y_data_ham[PREDICT_LABEL] = predicted_results[np.argmax(temp_avg_scores)]\n",
    "\n",
    "    for class_index in range(temp_best_k):\n",
    "        matched_label_data = y_data_ham[y_data_ham[PREDICT_LABEL] == class_index]\n",
    "        temp = {}\n",
    "        for column in LABELS_NAME:\n",
    "            temp[column] = Counter(matched_label_data[column]).most_common(1)[0][0]\n",
    "        majority_label[class_index] = temp\n",
    "\n",
    "    unmatched = 0\n",
    "    for class_index in range(temp_best_k):\n",
    "        matched_label_data = y_data_ham[y_data_ham[PREDICT_LABEL] == class_index]\n",
    "        for column in LABELS_NAME:\n",
    "            unmatched += sum(matched_label_data[column] != majority_label[class_index][column])\n",
    "    hamming_loss = unmatched / (y_data_ham.shape[0] * 3)\n",
    "    hamming_loss_list.append(hamming_loss)\n",
    "\n",
    "print(\"The average of Hamming Distance is : \", np.average(hamming_dist))\n",
    "print(\"The average of Hamming Score is : \", np.average(1 - np.array(hamming_loss_list)))\n",
    "print(\"The average of Hamming Loss is : \", np.average(hamming_loss_list))"
   ]
  }
 ],
 "metadata": {
  "kernelspec": {
   "display_name": "Python 3",
   "language": "python",
   "name": "python3"
  },
  "language_info": {
   "codemirror_mode": {
    "name": "ipython",
    "version": 3
   },
   "file_extension": ".py",
   "mimetype": "text/x-python",
   "name": "python",
   "nbconvert_exporter": "python",
   "pygments_lexer": "ipython3",
   "version": "3.7.6"
  }
 },
 "nbformat": 4,
 "nbformat_minor": 4
}
